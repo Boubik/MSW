{
 "cells": [
  {
   "cell_type": "code",
   "execution_count": 2,
   "metadata": {},
   "outputs": [],
   "source": [
    "import numpy as np\n",
    "from scipy.integrate import trapz\n",
    "from scipy.misc import derivative\n",
    "import time\n",
    "import matplotlib as plt"
   ]
  },
  {
   "cell_type": "markdown",
   "metadata": {},
   "source": [
    "### Skalární součin"
   ]
  },
  {
   "cell_type": "code",
   "execution_count": 3,
   "metadata": {},
   "outputs": [
    {
     "name": "stdout",
     "output_type": "stream",
     "text": [
      "skalarní součin trval: 0.0s\n",
      "68\n",
      "skalarní součin s numpy trval: 0.0s\n",
      "68\n"
     ]
    }
   ],
   "source": [
    "def skalarni_soucin(vektor1, vektor2):\n",
    "    old_time = time.time()\n",
    "    ska_soucin = 0\n",
    "    for i in range(len(vektor1)):\n",
    "        ska_soucin += vektor1[i] * vektor2[i]\n",
    "    print(\"skalarní součin trval: \" + str(time.time() - old_time) + \"s\")\n",
    "    return ska_soucin\n",
    "\n",
    "\n",
    "def numpy_skalarni_soucin(vektor1, vektor2):\n",
    "    old_time = time.time()\n",
    "    ska_soucin = np.dot(vektor1, vektor2)\n",
    "    print(\"skalarní součin s numpy trval: \" +\n",
    "          str(time.time() - old_time) + \"s\")\n",
    "    return ska_soucin\n",
    "    \n",
    "vec1 = [2, 4, 6]\n",
    "vec2 = [3, 5, 7]\n",
    "num_vec1 = np.array([2, 4, 6])\n",
    "num_vec2 = np.array([3, 5, 7])\n",
    "print(skalarni_soucin(vec1, vec2))\n",
    "print(numpy_skalarni_soucin(num_vec1, num_vec2))"
   ]
  },
  {
   "cell_type": "markdown",
   "metadata": {},
   "source": [
    "### Determinant"
   ]
  },
  {
   "cell_type": "code",
   "execution_count": 5,
   "metadata": {},
   "outputs": [
    {
     "name": "stdout",
     "output_type": "stream",
     "text": [
      "Determinant trval: 0.0s\n",
      "-306\n",
      "Determinant s numpy trval: 0.0s\n",
      "-306.0\n"
     ]
    }
   ],
   "source": [
    "def determinant(matice):\n",
    "    old_time = time.time()\n",
    "    det = 0\n",
    "    mat_len = len(matice)\n",
    "    # přidání řůdků\n",
    "    for i in range(len(matice)-1):\n",
    "        matice.append(matice[i])\n",
    "    # \\/\n",
    "    rr = list(reversed(range(mat_len)))\n",
    "    for posun in range(mat_len):\n",
    "        mezi_plus = 1\n",
    "        mezi_minus = 1\n",
    "        for xy in range(mat_len):\n",
    "            # print(\"x=\"+str(xy)+\" y=\"+str(xy+posun) +\n",
    "            #      \"\\tx=\"+str(rr[xy])+\" y=\"+str(xy+posun))\n",
    "            mezi_plus *= matice[xy+posun][xy]\n",
    "            mezi_minus *= matice[xy+posun][rr[xy]]\n",
    "        det += mezi_plus\n",
    "        det -= mezi_minus\n",
    "        #print(\" \")\n",
    "    print(\"Determinant trval: \" + str(time.time() - old_time) + \"s\")\n",
    "    return det\n",
    "\n",
    "\n",
    "def numpy_determinant(matice):\n",
    "    old_time = time.time()\n",
    "    det = np.linalg.det(matice)\n",
    "    print(\"Determinant s numpy trval: \" + str(time.time() - old_time) + \"s\")\n",
    "    return det\n",
    "\n",
    "vec = [[6, 1, 1], [4, -2, 5], [2, 8, 7]]\n",
    "num_vec = np.array([[6, 1, 1], [4, -2, 5], [2, 8, 7]])\n",
    "print(determinant(vec))\n",
    "print(numpy_determinant(num_vec))"
   ]
  },
  {
   "cell_type": "markdown",
   "metadata": {},
   "source": [
    "### Integrál"
   ]
  },
  {
   "cell_type": "code",
   "execution_count": 4,
   "metadata": {},
   "outputs": [
    {
     "name": "stdout",
     "output_type": "stream",
     "text": [
      "integrál trval: 3.426607131958008s\n",
      "170.00001699999999\n",
      "integrál s numpy trval: 0.030995845794677734s\n",
      "170.0\n"
     ]
    }
   ],
   "source": [
    "def integral(bod1,bod2,step):\n",
    "    old_time = time.time()\n",
    "    rngup = int(1/step)\n",
    "    x1 = [x * step for x in range(rngup*bod1,rngup*bod2+1)]    \n",
    "    resault = 0\n",
    "    for i in x1:    \n",
    "        resault = resault + (3*i+2)*step\n",
    "    end_time = time.time()\n",
    "    print(\"integrál trval: \" + str(time.time() - old_time) + \"s\")\n",
    "    return resault\n",
    "\n",
    "def numpy_integral(start, end, step):\n",
    "    old_time = time.time()\n",
    "    step = int(1/step)\n",
    "    x = np.linspace(start, end, step)\n",
    "    f = 3*x+2\n",
    "    resault = trapz(f, x)\n",
    "    print(\"integrál s numpy trval: \" + str(time.time() - old_time) + \"s\")\n",
    "    return resault\n",
    "\n",
    "point1 = 0\n",
    "point2 = 10\n",
    "step = 0.000001\n",
    "print(integral(point1, point2, step))\n",
    "print(numpy_integral(point1, point2, step))"
   ]
  },
  {
   "cell_type": "markdown",
   "metadata": {},
   "source": [
    "### Matrix"
   ]
  },
  {
   "cell_type": "code",
   "execution_count": 6,
   "metadata": {},
   "outputs": [
    {
     "name": "stdout",
     "output_type": "stream",
     "text": [
      "integrál s numpy trval: 0.0s\n",
      "matrix multiply s numpy trval: 0.0s\n"
     ]
    },
    {
     "data": {
      "text/plain": [
       "array([[ 8, 37],\n",
       "       [23, 32]])"
      ]
     },
     "execution_count": 6,
     "metadata": {},
     "output_type": "execute_result"
    }
   ],
   "source": [
    "def matrix_multiply(matrixA, matrixB):\n",
    "    old_time = time.time()\n",
    "    rowsA = len(matrixA)\n",
    "    colsA = len(matrixA[0])\n",
    "    rowsB = len(matrixB)\n",
    "    colsB = len(matrixB[0])\n",
    "    if colsA != rowsB:\n",
    "        raise ArithmeticError(\n",
    "            'Number of A columns must equal number of B rows.') \n",
    "    # vyvotření prázdný matice    \n",
    "    C = []\n",
    "    while len(C) < rowsA:\n",
    "        C.append([])\n",
    "        while len(C[-1]) < colsB:\n",
    "            C[-1].append(0.0)   \n",
    "            \n",
    "    # Section 2: Store matrix multiplication in a new matrix \n",
    "    for i in range(rowsA):\n",
    "        for j in range(colsB):\n",
    "            total = 0\n",
    "            for ii in range(colsA):\n",
    "                total += matrixA[i][ii] * matrixB[ii][j]\n",
    "            C[i][j] = total\n",
    "    print(\"integrál s numpy trval: \" + str(time.time() - old_time) + \"s\")\n",
    "    return C\n",
    "        \n",
    "\n",
    "def numpy_matrix_multiply(matrixA, matrixB):\n",
    "    old_time = time.time()\n",
    "    kek =  np.dot(matrixA,matrixB)\n",
    "    print(\"matrix multiply s numpy trval: \" + str(time.time() - old_time) + \"s\")\n",
    "    return kek\n",
    "\n",
    "\n",
    "matrixA = [[1,4],[5,3]]\n",
    "matrixB = [[4,1],[1,9]]\n",
    "num_matrixA = np.array(matrixA)\n",
    "num_matrixB = np.array(matrixB)\n",
    "matrix_multiply(matrixA, matrixB)\n",
    "numpy_matrix_multiply(num_matrixA, num_matrixB)"
   ]
  },
  {
   "cell_type": "markdown",
   "metadata": {},
   "source": [
    "### Derivace"
   ]
  },
  {
   "cell_type": "code",
   "execution_count": 7,
   "metadata": {},
   "outputs": [
    {
     "name": "stdout",
     "output_type": "stream",
     "text": [
      "derivace trval: 0.0s\n",
      "268.9627848440068\n",
      "derivace s scipy trval: 0.0009374618530273438s\n",
      "268.96278342292135\n"
     ]
    }
   ],
   "source": [
    "def derivace(bodX, dx, funkce):\n",
    "    old_time = time.time()\n",
    "    dy = funkce(bodX+dx) - funkce(bodX)\n",
    "    vysledek = dy/dx\n",
    "    print(\"derivace trval: \" + str(time.time() - old_time) + \"s\")\n",
    "    return vysledek\n",
    "\n",
    "def scipy_derivace(bodX, dx, funkce):\n",
    "    old_time = time.time()\n",
    "    kek = derivative(funkce, bodX, dx)\n",
    "    print(\"derivace s scipy trval: \" + str(time.time() - old_time) + \"s\")\n",
    "    return kek\n",
    "\n",
    "dx = 0.00000001\n",
    "bodX = 5\n",
    "funkce = lambda x: eval(\"3**x+x*2\")\n",
    "print(derivace(bodX, dx, funkce))\n",
    "print(scipy_derivace(bodX, dx, funkce))"
   ]
  }
 ],
 "metadata": {
  "kernelspec": {
   "display_name": "Python 3.10.5 64-bit",
   "language": "python",
   "name": "python3"
  },
  "language_info": {
   "codemirror_mode": {
    "name": "ipython",
    "version": 3
   },
   "file_extension": ".py",
   "mimetype": "text/x-python",
   "name": "python",
   "nbconvert_exporter": "python",
   "pygments_lexer": "ipython3",
   "version": "3.10.5"
  },
  "orig_nbformat": 4,
  "vscode": {
   "interpreter": {
    "hash": "3ed663477c9054007c6ac5e64e08cd9d97c8dc51b297599bd5d166561d7ca7de"
   }
  }
 },
 "nbformat": 4,
 "nbformat_minor": 2
}
