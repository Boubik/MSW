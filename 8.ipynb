{
 "cells": [
  {
   "cell_type": "code",
   "execution_count": 1,
   "metadata": {},
   "outputs": [],
   "source": [
    "#METODY\n",
    "def forward_derivate(f, x0, h):\n",
    "    return (f(x0+h) - f(x0))/h\n",
    "\n",
    "def backward_derivate(f, x0, h):\n",
    "    return (f(x0) - f(x0-h))/h\n",
    "\n",
    "def central_derivate(f, x0, h):\n",
    "    return (f(x0+h) - f(x0-h))/(2*h)"
   ]
  },
  {
   "cell_type": "code",
   "execution_count": 3,
   "metadata": {},
   "outputs": [
    {
     "name": "stdout",
     "output_type": "stream",
     "text": [
      "dopředná: 50.88100000000004, dopředná s krokem: 85.0, rozdíl = 34.11899999999996\n",
      "zpětná: 45.279000000000025, zpětná s krokem: 27.0, rozdíl = 18.279000000000025\n",
      "centrální: 48.080000000000034, centrální s krokem: 56.0, rozdíl = 7.919999999999966\n"
     ]
    }
   ],
   "source": [
    "func = lambda x: x**4 + 4*x**2 + 10\n",
    "x0 = 2\n",
    "h = 0.1\n",
    "h_adaptive = 1 # mezi 0 až 1\n",
    "\n",
    "func_forward = forward_derivate(func, x0, h)\n",
    "func_backward = backward_derivate(func, x0, h)\n",
    "func_central = central_derivate(func, x0, h)\n",
    "func_forward_adaptive = forward_derivate(func, x0, h_adaptive)\n",
    "func_backward_adaptive = backward_derivate(func, x0, h_adaptive)\n",
    "func_central_adaptive = central_derivate(func, x0, h_adaptive)\n",
    "\n",
    "print(f\"dopředná: {func_forward}, dopředná s krokem: {func_forward_adaptive}, rozdíl = {abs(func_forward - func_forward_adaptive)}\")\n",
    "print(f\"zpětná: {func_backward}, zpětná s krokem: {func_backward_adaptive}, rozdíl = {abs(func_backward - func_backward_adaptive)}\")\n",
    "print(f\"centrální: {func_central}, centrální s krokem: {func_central_adaptive}, rozdíl = {abs(func_central - func_central_adaptive)}\")\n"
   ]
  }
 ],
 "metadata": {
  "kernelspec": {
   "display_name": "Python 3.10.5 64-bit",
   "language": "python",
   "name": "python3"
  },
  "language_info": {
   "codemirror_mode": {
    "name": "ipython",
    "version": 3
   },
   "file_extension": ".py",
   "mimetype": "text/x-python",
   "name": "python",
   "nbconvert_exporter": "python",
   "pygments_lexer": "ipython3",
   "version": "3.10.5"
  },
  "orig_nbformat": 4,
  "vscode": {
   "interpreter": {
    "hash": "3ed663477c9054007c6ac5e64e08cd9d97c8dc51b297599bd5d166561d7ca7de"
   }
  }
 },
 "nbformat": 4,
 "nbformat_minor": 2
}
