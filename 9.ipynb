{
 "cells": [
  {
   "cell_type": "code",
   "execution_count": 1,
   "metadata": {},
   "outputs": [],
   "source": [
    "import numpy as np\n",
    "import scipy.integrate"
   ]
  },
  {
   "cell_type": "markdown",
   "metadata": {},
   "source": [
    "### Data"
   ]
  },
  {
   "cell_type": "code",
   "execution_count": 6,
   "metadata": {},
   "outputs": [],
   "source": [
    "def funkce1(x):\n",
    "    return x**9 + 5*x**5 + x -9\n",
    "def funkce2(x):\n",
    "    return 8*x - np.exp(-2*x) - 7\n",
    "def funkce3(x):\n",
    "    return np.sin(x*4)\n",
    "\n",
    "a = 0\n",
    "b = 3\n",
    "dx = 0.1"
   ]
  },
  {
   "cell_type": "markdown",
   "metadata": {},
   "source": [
    "### analytické řešení"
   ]
  },
  {
   "cell_type": "code",
   "execution_count": 7,
   "metadata": {},
   "outputs": [],
   "source": [
    "def analytic(f, a, b):\n",
    "    x = scipy.integrate.quad(f, a, b)\n",
    "    return(x[0])\n",
    "\n",
    "# scipy trapezoid\n",
    "def scipy_trapezoid(f, a, b, dx):\n",
    "    x = np.arange(a, b+dx, dx)\n",
    "    y = f(x)\n",
    "    return(scipy.integrate.trapezoid(y, x))\n",
    "\n",
    "# scipy simpson\n",
    "def scipy_simpson(f, a, b, dx):\n",
    "    x = np.arange(a, b+dx, dx)\n",
    "    y = f(x)\n",
    "    return(scipy.integrate.simpson(y, x))\n",
    "\n",
    "# scipy romberg\n",
    "def scipy_romberg(f, a, b):\n",
    "    return(scipy.integrate.romberg(f, a, b))\n",
    "\n",
    "# scipy gaussian\n",
    "def scipy_gaussian(f, a, b):\n",
    "    return(scipy.integrate.quadrature(f, a, b)[0])"
   ]
  },
  {
   "cell_type": "markdown",
   "metadata": {},
   "source": [
    "#### Funkce 1"
   ]
  },
  {
   "cell_type": "code",
   "execution_count": 8,
   "metadata": {},
   "outputs": [
    {
     "name": "stdout",
     "output_type": "stream",
     "text": [
      "Trapezoid: vysledek: 6540.743635486501, odlišnost: -50.843635486500716\n",
      "Romberg: vysledek: 6489.900000000001, odlišnost: 0.0\n",
      "Simpson: vysledek: 6490.104811134, odlišnost: -0.204811133999101\n",
      "Gauss: vysledek: 6489.899999999994, odlišnost: 6.366462912410498e-12\n"
     ]
    }
   ],
   "source": [
    "a1 = analytic(funkce1, a, b)\n",
    "f1 = scipy_trapezoid(funkce1, a, b, dx)\n",
    "f2 = scipy_romberg(funkce1, a, b)\n",
    "f3 = scipy_simpson(funkce1, a, b, dx)\n",
    "f4 = scipy_gaussian(funkce1, a, b)\n",
    "\n",
    "print(\"Trapezoid: vysledek: \" + str(f1) + \", odlišnost: \" + str(a1 - f1))\n",
    "print(\"Romberg: vysledek: \" + str(f2) + \", odlišnost: \" + str(a1 - f2))\n",
    "print(\"Simpson: vysledek: \" + str(f3) + \", odlišnost: \" + str(a1 - f3))\n",
    "print(\"Gauss: vysledek: \" + str(f4) + \", odlišnost: \" + str(a1 - f4))"
   ]
  },
  {
   "cell_type": "markdown",
   "metadata": {},
   "source": [
    "#### Funkce 2"
   ]
  },
  {
   "cell_type": "code",
   "execution_count": 9,
   "metadata": {},
   "outputs": [
    {
     "name": "stdout",
     "output_type": "stream",
     "text": [
      "Trapezoid: vysledek: 14.499577947977714, odlišnost: 0.0016614281106175355\n",
      "Romberg: vysledek: 14.501239376088286, odlišnost: 4.618527782440651e-14\n",
      "Simpson: vysledek: 14.501234963683816, odlišnost: 4.412404516429547e-06\n",
      "Gauss: vysledek: 14.501239376961925, odlišnost: -8.735927536918098e-10\n"
     ]
    }
   ],
   "source": [
    "a1 = analytic(funkce2, a, b)\n",
    "f1 = scipy_trapezoid(funkce2, a, b, dx)\n",
    "f2 = scipy_romberg(funkce2, a, b)\n",
    "f3 = scipy_simpson(funkce2, a, b, dx)\n",
    "f4 = scipy_gaussian(funkce2, a, b)\n",
    "\n",
    "print(\"Trapezoid: vysledek: \" + str(f1) + \", odlišnost: \" + str(a1 - f1))\n",
    "print(\"Romberg: vysledek: \" + str(f2) + \", odlišnost: \" + str(a1 - f2))\n",
    "print(\"Simpson: vysledek: \" + str(f3) + \", odlišnost: \" + str(a1 - f3))\n",
    "print(\"Gauss: vysledek: \" + str(f4) + \", odlišnost: \" + str(a1 - f4))"
   ]
  },
  {
   "cell_type": "markdown",
   "metadata": {},
   "source": [
    "#### Funkce 3"
   ]
  },
  {
   "cell_type": "code",
   "execution_count": 10,
   "metadata": {},
   "outputs": [
    {
     "name": "stdout",
     "output_type": "stream",
     "text": [
      "Trapezoid: vysledek: 0.038514630239119996, odlišnost: 0.0005218800777569838\n",
      "Romberg: vysledek: 0.03903651031667321, odlišnost: 2.0376755838213967e-13\n",
      "Simpson: vysledek: 0.039042169731951265, odlišnost: -5.659415074285579e-06\n",
      "Gauss: vysledek: 0.03903651029220705, odlišnost: 2.4669932763288216e-11\n"
     ]
    }
   ],
   "source": [
    "a1 = analytic(funkce3, a, b)\n",
    "f1 = scipy_trapezoid(funkce3, a, b, dx)\n",
    "f2 = scipy_romberg(funkce3, a, b)\n",
    "f3 = scipy_simpson(funkce3, a, b, dx)\n",
    "f4 = scipy_gaussian(funkce3, a, b)\n",
    "\n",
    "print(\"Trapezoid: vysledek: \" + str(f1) + \", odlišnost: \" + str(a1 - f1))\n",
    "print(\"Romberg: vysledek: \" + str(f2) + \", odlišnost: \" + str(a1 - f2))\n",
    "print(\"Simpson: vysledek: \" + str(f3) + \", odlišnost: \" + str(a1 - f3))\n",
    "print(\"Gauss: vysledek: \" + str(f4) + \", odlišnost: \" + str(a1 - f4))"
   ]
  }
 ],
 "metadata": {
  "kernelspec": {
   "display_name": "Python 3.10.5 64-bit",
   "language": "python",
   "name": "python3"
  },
  "language_info": {
   "codemirror_mode": {
    "name": "ipython",
    "version": 3
   },
   "file_extension": ".py",
   "mimetype": "text/x-python",
   "name": "python",
   "nbconvert_exporter": "python",
   "pygments_lexer": "ipython3",
   "version": "3.10.5"
  },
  "orig_nbformat": 4,
  "vscode": {
   "interpreter": {
    "hash": "3ed663477c9054007c6ac5e64e08cd9d97c8dc51b297599bd5d166561d7ca7de"
   }
  }
 },
 "nbformat": 4,
 "nbformat_minor": 2
}
